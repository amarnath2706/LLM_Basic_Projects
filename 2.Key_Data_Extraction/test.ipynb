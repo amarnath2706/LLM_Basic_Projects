{
 "cells": [
  {
   "cell_type": "code",
   "execution_count": null,
   "metadata": {},
   "outputs": [],
   "source": [
    "import os\n",
    "from dotenv import load_dotenv, find_dotenv\n",
    "_ = load_dotenv(find_dotenv())\n",
    "groq_api_key = os.environ[\"GROQ_API_KEY\"]"
   ]
  },
  {
   "cell_type": "code",
   "execution_count": null,
   "metadata": {},
   "outputs": [],
   "source": [
    "from langchain_core.pydantic_v1 import BaseModel, Field\n",
    "from langchain_groq import ChatGroq\n",
    "\n",
    "class Code(BaseModel):\n",
    "    \"\"\"Code output\"\"\"\n",
    "    prefix: str = Field(description=\"Description of the code snip. Describes the detailed function usage, the arguments, outputs and gives an example if needed.\")\n",
    "    imports: str = Field(description=\"Code block import statements\")\n",
    "    function_name: str = Field(description=\"Name of the function\")\n",
    "    code: str = Field(description=\"Executable code block using pep 8 code style. Not including import statements and not including applying function\")\n",
    "\n",
    "chat = ChatGroq(\n",
    "    temperature=0,\n",
    "    model=\"llama3-70b-8192\",\n",
    "    # api_key=\"\" # Optional if not set as an environment variable\n",
    ")\n",
    "\n",
    "structured_llm = chat.with_structured_output(Code, include_raw=True)\n",
    "\n",
    "response = structured_llm.invoke(\"Generate a Python function with detailed description, imports, and code.\")\n",
    "print(response)"
   ]
  }
 ],
 "metadata": {
  "kernelspec": {
   "display_name": "basic_llm_projects",
   "language": "python",
   "name": "python3"
  },
  "language_info": {
   "name": "python",
   "version": "3.11.11"
  }
 },
 "nbformat": 4,
 "nbformat_minor": 2
}
