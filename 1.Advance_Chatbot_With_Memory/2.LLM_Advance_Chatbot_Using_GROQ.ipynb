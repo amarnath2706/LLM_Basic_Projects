{
 "cells": [
  {
   "cell_type": "markdown",
   "metadata": {},
   "source": [
    "# How to build an advanced Chatbot with session memory using LangChain\n",
    "* Advanced Chatbot LLM App.\n",
    "    * Will be able to have a conversation.\n",
    "    * Will remember previous interactions: will have memory.\n",
    "    * Will be able to have different memories for different user sessions.\n",
    "    * Will be able to remember a limited number of messages: limited memory.\n",
    "\n",
    "\n",
    "## Concepts included\n",
    "* Chat Model vs. LLM Model:\n",
    "    *  Chat Model is based around messages.\n",
    "    *  LLM Model is based around raw text.\n",
    "* Chat History: allows Chat Model to remember previous interactions.\n",
    "\n",
    "\n",
    "#### What is BaseChatMessageHistory and what it does?\n",
    "BaseChatMessageHistory is what is called an **abstract base class** in Python. [See more info about this here](https://api.python.langchain.com/en/latest/chat_history/langchain_core.chat_history.BaseChatMessageHistory.html). This means it serves as a template or a foundational **blueprint for other classes**. It outlines a set of methods and structures that any class inheriting from it must implement or adhere to, but it cannot be used to create objects directly.\n",
    "\n",
    "Here's a simpler breakdown of what it means for `BaseChatMessageHistory` to be an abstract base class:\n",
    "\n",
    "1. **Blueprint for Other Classes:** It provides a predefined structure that other classes can follow. Think of it like an outline or a checklist for building something; it specifies what needs to be included, but it isn’t the final product.\n",
    "\n",
    "2. **Cannot Create Instances:** You cannot create an instance of an abstract base class. Trying to create an object directly from `BaseChatMessageHistory` would result in an error because it's meant to be a guide, not something to use directly.\n",
    "\n",
    "3. **Requires Implementation:** Any class that inherits from this abstract base class needs to implement specific methods outlined in `BaseChatMessageHistory`, such as methods for adding messages, retrieving messages, and clearing messages. The class sets the rules, and the subclasses need to follow these rules by providing the actual operational details.\n",
    "\n",
    "4. **Purpose in Design:** Using an abstract base class helps ensure consistency and correctness in the implementation of classes that extend it. It's a way to enforce certain functionalities in any subclass, making sure that they all behave as expected without rewriting the same code multiple times.\n",
    "\n",
    "Overall, the concept of an abstract base class is about setting standards and rules, while leaving the specific details of execution to be defined by subclasses that inherit from it.\n",
    "\n",
    "\n",
    "#### Let's explain the previous code in simple terms\n",
    "The previous code manages the chatbot's memory of conversations based on session identifiers. Here’s a breakdown of what the different components do:\n",
    "\n",
    "1. **chatbotMemory**:\n",
    "    - `chatbotMemory = {}`: This initializes an empty dictionary where session IDs and their respective chat histories will be stored.\n",
    "\n",
    "2. **get_session_history Function**:\n",
    "    - This function, `get_session_history`, takes a `session_id` as an argument and returns the chat history associated with that session.\n",
    "    - If a chat history for the given `session_id` does not exist in `chatbotMemory`, a new instance of `ChatMessageHistory` is created and assigned to that `session_id` in the dictionary.\n",
    "    - The function ensures that each session has its own unique chat history, stored and retrieved using the session ID.\n",
    "\n",
    "3. **chatbot_with_message_history**:\n",
    "    - `chatbot_with_message_history = RunnableWithMessageHistory(chatbot, get_session_history)`: This line creates an instance of `RunnableWithMessageHistory` using two arguments: `chatbot` and `get_session_history`.\n",
    "    - The `chatbot` is passed along with the `get_session_history` function. This setup integrates the chatbot with the functionality to handle session-specific chat histories, allowing the chatbot to maintain continuity and context in conversations across different sessions.\n",
    "    - **Learn more about RunnableWithMessageHistory** [here](https://python.langchain.com/v0.1/docs/expression_language/how_to/message_history/).\n",
    "\n",
    "Overall, the code organizes and manages a chatbot's memory, enabling it to handle different sessions with users effectively by remembering previous messages within each session.\n",
    "\n"
   ]
  },
  {
   "cell_type": "code",
   "execution_count": 1,
   "metadata": {},
   "outputs": [],
   "source": [
    "#Avoid legacy Langchain depreciation warning\n",
    "import warnings\n",
    "from langchain._api import LangChainDeprecationWarning\n",
    "\n",
    "warnings.simplefilter(\"ignore\", category=LangChainDeprecationWarning)"
   ]
  },
  {
   "cell_type": "code",
   "execution_count": 2,
   "metadata": {},
   "outputs": [],
   "source": [
    "#load my env variable\n",
    "import os\n",
    "from dotenv import load_dotenv, find_dotenv\n",
    "_ = load_dotenv(find_dotenv())\n",
    "groq_api_key = os.environ[\"GROQ_API_KEY\"]"
   ]
  },
  {
   "cell_type": "code",
   "execution_count": 3,
   "metadata": {},
   "outputs": [],
   "source": [
    "#load our chat completion model\n",
    "from langchain_groq import ChatGroq\n",
    "\n",
    "chatbot = ChatGroq(model=\"mixtral-8x7b-32768\")"
   ]
  },
  {
   "cell_type": "code",
   "execution_count": 4,
   "metadata": {},
   "outputs": [],
   "source": [
    "#Let's check with simple prompt - human prompt\n",
    "from langchain_core.messages import HumanMessage\n",
    "\n",
    "messagesToTheChatbot = [\n",
    "    HumanMessage(content=\"My favourite place is Switzerland\"),\n",
    "]"
   ]
  },
  {
   "cell_type": "code",
   "execution_count": 5,
   "metadata": {},
   "outputs": [
    {
     "data": {
      "text/plain": [
       "AIMessage(content=\"Switzerland is a beautiful country located in the heart of Europe, known for its stunning landscapes, clean cities, and rich culture. Here are a few reasons why Switzerland might be your favorite place:\\n\\n1. Natural Beauty: Switzerland is home to some of the most breathtaking landscapes in the world, from the majestic Swiss Alps to the crystal-clear lakes and rivers. Whether you enjoy hiking, skiing, or simply taking in the views, Switzerland has something for everyone.\\n2. Cultural Diversity: Switzerland is a multilingual and multicultural country, with four official languages (German, French, Italian, and Romansh) and a diverse population. This means that you can experience different cultures, traditions, and cuisines all within one country.\\n3. Safety and Cleanliness: Switzerland is one of the safest and cleanest countries in the world, with a high standard of living and a strong emphasis on environmental sustainability. This makes it an ideal destination for travelers of all ages.\\n4. Rich History and Architecture: Switzerland has a rich history that dates back to the Roman Empire, with many well-preserved castles, churches, and other historical sites. The country is also home to some of the world's most famous architects, such as Le Corbusier and Mario Botta.\\n5. Delicious Cuisine: Swiss cuisine is a fusion of German, French, and Italian culinary traditions, with a focus on hearty, flavorful dishes. Some of the most famous Swiss dishes include fondue, raclette, and rösti.\\n\\nOverall, Switzerland is a wonderful place to visit or live, with its stunning natural beauty, cultural diversity, safety, history, and delicious food.\", response_metadata={'token_usage': {'completion_tokens': 370, 'prompt_tokens': 13, 'total_tokens': 383, 'completion_time': 0.593476178, 'prompt_time': 0.002163865, 'queue_time': 0.030717174, 'total_time': 0.595640043}, 'model_name': 'mixtral-8x7b-32768', 'system_fingerprint': 'fp_c5f20b5bb1', 'finish_reason': 'stop', 'logprobs': None}, id='run-41e3b2d7-e8b4-4f92-b4f9-27a2007496ed-0', usage_metadata={'input_tokens': 13, 'output_tokens': 370, 'total_tokens': 383})"
      ]
     },
     "execution_count": 5,
     "metadata": {},
     "output_type": "execute_result"
    }
   ],
   "source": [
    "#Let's pass to the LLM with the help of invoke function\n",
    "#Response in the form of AIMessage\n",
    "chatbot.invoke(messagesToTheChatbot)"
   ]
  },
  {
   "cell_type": "code",
   "execution_count": 6,
   "metadata": {},
   "outputs": [
    {
     "data": {
      "text/plain": [
       "AIMessage(content=\"I'm afraid I don't have enough information to know your favorite place. You can tell me more about it, if you'd like. I can assist you with information about places, if that's what you're looking for.\", response_metadata={'token_usage': {'completion_tokens': 52, 'prompt_tokens': 15, 'total_tokens': 67, 'completion_time': 0.081630024, 'prompt_time': 0.002572343, 'queue_time': 0.028139852, 'total_time': 0.084202367}, 'model_name': 'mixtral-8x7b-32768', 'system_fingerprint': 'fp_c5f20b5bb1', 'finish_reason': 'stop', 'logprobs': None}, id='run-3188bd78-d0c9-4494-9672-bf28258084d9-0', usage_metadata={'input_tokens': 15, 'output_tokens': 52, 'total_tokens': 67})"
      ]
     },
     "execution_count": 6,
     "metadata": {},
     "output_type": "execute_result"
    }
   ],
   "source": [
    "#Let's check our chatbot remembers our favourite place\n",
    "chatbot.invoke([\n",
    "    HumanMessage(content=\"Do you know my favourite place?\")\n",
    "])"
   ]
  },
  {
   "cell_type": "code",
   "execution_count": 8,
   "metadata": {},
   "outputs": [],
   "source": [
    "#Let's add memory to our Chatbot\n",
    "\n",
    "from langchain_community.chat_message_histories import ChatMessageHistory\n",
    "from langchain_core.chat_history import BaseChatMessageHistory\n",
    "from langchain_core.runnables.history import RunnableWithMessageHistory\n",
    "\n",
    "chatbotMemory = {}\n",
    "\n",
    "# input: session_id, output: chatbotMemory[session_id]\n",
    "def get_session_history(session_id: str) -> BaseChatMessageHistory:\n",
    "    if session_id not in chatbotMemory:\n",
    "        chatbotMemory[session_id] = ChatMessageHistory()\n",
    "    return chatbotMemory[session_id]\n",
    "\n",
    "\n",
    "chatbot_with_message_history = RunnableWithMessageHistory(\n",
    "    chatbot, \n",
    "    get_session_history\n",
    ")"
   ]
  },
  {
   "cell_type": "code",
   "execution_count": 10,
   "metadata": {},
   "outputs": [],
   "source": [
    "#let's create the session - create different sessions for different users\n",
    "#Session - person A cannot access the person B history\n",
    "session1 = {\"configurable\": {\"session_id\": \"001\"}}"
   ]
  },
  {
   "cell_type": "code",
   "execution_count": 11,
   "metadata": {},
   "outputs": [
    {
     "data": {
      "text/plain": [
       "\"That's great! Switzerland is known for its stunning landscapes, including the Alps, picturesque towns, and delicious chocolate. Do you have a favorite city or region in Switzerland that you've visited or would like to visit?\""
      ]
     },
     "execution_count": 11,
     "metadata": {},
     "output_type": "execute_result"
    }
   ],
   "source": [
    "responseFromChatbot = chatbot_with_message_history.invoke(\n",
    "    [HumanMessage(content=\"My favorite place is Switzerland.\")],\n",
    "    config=session1,\n",
    ")\n",
    "\n",
    "responseFromChatbot.content"
   ]
  },
  {
   "cell_type": "code",
   "execution_count": 12,
   "metadata": {},
   "outputs": [
    {
     "data": {
      "text/plain": [
       "'My apologies, I had assumed based on your previous message that Switzerland is your favorite place. Is that incorrect, and you would like to share a different favorite place instead?'"
      ]
     },
     "execution_count": 12,
     "metadata": {},
     "output_type": "execute_result"
    }
   ],
   "source": [
    "responseFromChatbot = chatbot_with_message_history.invoke(\n",
    "    [HumanMessage(content=\"Which is my favorite place?\")],\n",
    "    config=session1,\n",
    ")\n",
    "\n",
    "responseFromChatbot.content"
   ]
  },
  {
   "cell_type": "code",
   "execution_count": 13,
   "metadata": {},
   "outputs": [],
   "source": [
    "#Let's change the session id\n",
    "session2 = {\"configurable\": {\"session_id\": \"002\"}}"
   ]
  },
  {
   "cell_type": "code",
   "execution_count": 14,
   "metadata": {},
   "outputs": [
    {
     "data": {
      "text/plain": [
       "\"I don't have personal experiences, emotions, or favorites. However, I can help you find information about your favorite place if you tell me what it is.\""
      ]
     },
     "execution_count": 14,
     "metadata": {},
     "output_type": "execute_result"
    }
   ],
   "source": [
    "responseFromChatbot = chatbot_with_message_history.invoke(\n",
    "    [HumanMessage(content=\"Which is my favorite place?\")],\n",
    "    config=session2,\n",
    ")\n",
    "\n",
    "responseFromChatbot.content"
   ]
  },
  {
   "cell_type": "code",
   "execution_count": 15,
   "metadata": {},
   "outputs": [],
   "source": [
    "#Let's go back to session 1 and see if the memory is still there or not\n",
    "session1 = {\"configurable\": {\"session_id\": \"001\"}}"
   ]
  },
  {
   "cell_type": "code",
   "execution_count": 16,
   "metadata": {},
   "outputs": [
    {
     "data": {
      "text/plain": [
       "'I apologize for any confusion. Based on the information you provided, you mentioned that Switzerland is your favorite place. If you have any other favorite places or would like to share more about your favorite things about Switzerland, I would be happy to hear more!'"
      ]
     },
     "execution_count": 16,
     "metadata": {},
     "output_type": "execute_result"
    }
   ],
   "source": [
    "responseFromChatbot = chatbot_with_message_history.invoke(\n",
    "    [HumanMessage(content=\"Which is my favorite place?\")],\n",
    "    config=session1,\n",
    ")\n",
    "\n",
    "responseFromChatbot.content"
   ]
  },
  {
   "cell_type": "code",
   "execution_count": 17,
   "metadata": {},
   "outputs": [],
   "source": [
    "### Our ChatBot has session memory now. Let's check if it remembers the conversation from session2.\n",
    "session2 = {\"configurable\": {\"session_id\": \"002\"}}"
   ]
  },
  {
   "cell_type": "code",
   "execution_count": 18,
   "metadata": {},
   "outputs": [
    {
     "data": {
      "text/plain": [
       "\"Hello Amar! It's nice to meet you. I'm here to help you with any questions or information you might need. If you'd like to know about your favorite place, could you please tell me where that is?\""
      ]
     },
     "execution_count": 18,
     "metadata": {},
     "output_type": "execute_result"
    }
   ],
   "source": [
    "responseFromChatbot = chatbot_with_message_history.invoke(\n",
    "    [HumanMessage(content=\"My name is Amar.\")],\n",
    "    config=session2,\n",
    ")\n",
    "\n",
    "responseFromChatbot.content"
   ]
  },
  {
   "cell_type": "code",
   "execution_count": 19,
   "metadata": {},
   "outputs": [
    {
     "data": {
      "text/plain": [
       "'You mentioned earlier that your name is Amar. Is there something else you would like to know or discuss, Amar?'"
      ]
     },
     "execution_count": 19,
     "metadata": {},
     "output_type": "execute_result"
    }
   ],
   "source": [
    "responseFromChatbot = chatbot_with_message_history.invoke(\n",
    "    [HumanMessage(content=\"What is my name?\")],\n",
    "    config=session2,\n",
    ")\n",
    "\n",
    "responseFromChatbot.content"
   ]
  },
  {
   "cell_type": "code",
   "execution_count": 20,
   "metadata": {},
   "outputs": [
    {
     "data": {
      "text/plain": [
       "'I apologize if I am repeating myself, but based on the information you provided, you mentioned that Switzerland is your favorite place. If you have any other favorite places or would like to share more about your favorite things about Switzerland, I would be happy to hear more! If Switzerland is not your favorite place after all, please let me know and I will do my best to assist you with any questions you may have.'"
      ]
     },
     "execution_count": 20,
     "metadata": {},
     "output_type": "execute_result"
    }
   ],
   "source": [
    "responseFromChatbot = chatbot_with_message_history.invoke(\n",
    "    [HumanMessage(content=\"Which is my favorite Place?\")],\n",
    "    config=session1,\n",
    ")\n",
    "\n",
    "responseFromChatbot.content"
   ]
  },
  {
   "cell_type": "markdown",
   "metadata": {},
   "source": [
    "## Our chatbot remembers each and every of our conversation\n",
    "\n",
    "## The importance to manage the Conversation History\n",
    "* The memory of a chatbot is included in the context window of the LLM so, if left unmanaged, can potentially overflow it.\n",
    "* **We are now going to learn how to limit the size of the memory of a chatbot**.\n",
    "* First, let's take a look at what is in the memory of our chatbot:"
   ]
  },
  {
   "cell_type": "code",
   "execution_count": 21,
   "metadata": {},
   "outputs": [
    {
     "name": "stdout",
     "output_type": "stream",
     "text": [
      "{'001': InMemoryChatMessageHistory(messages=[HumanMessage(content='My favorite place is Switzerland.'), AIMessage(content=\"That's great! Switzerland is known for its stunning landscapes, including the Alps, picturesque towns, and delicious chocolate. Do you have a favorite city or region in Switzerland that you've visited or would like to visit?\", response_metadata={'token_usage': {'completion_tokens': 49, 'prompt_tokens': 14, 'total_tokens': 63, 'completion_time': 0.077209845, 'prompt_time': 0.002056355, 'queue_time': 0.026210972, 'total_time': 0.0792662}, 'model_name': 'mixtral-8x7b-32768', 'system_fingerprint': 'fp_c5f20b5bb1', 'finish_reason': 'stop', 'logprobs': None}, id='run-d850989d-a550-48af-9150-fff93f5261b7-0', usage_metadata={'input_tokens': 14, 'output_tokens': 49, 'total_tokens': 63}), HumanMessage(content='Which is my favorite place?'), AIMessage(content='My apologies, I had assumed based on your previous message that Switzerland is your favorite place. Is that incorrect, and you would like to share a different favorite place instead?', response_metadata={'token_usage': {'completion_tokens': 36, 'prompt_tokens': 76, 'total_tokens': 112, 'completion_time': 0.056102668, 'prompt_time': 0.011274741, 'queue_time': 0.020801678000000004, 'total_time': 0.067377409}, 'model_name': 'mixtral-8x7b-32768', 'system_fingerprint': 'fp_c5f20b5bb1', 'finish_reason': 'stop', 'logprobs': None}, id='run-7dd3bcea-c251-4059-bca7-374df76769a6-0', usage_metadata={'input_tokens': 76, 'output_tokens': 36, 'total_tokens': 112}), HumanMessage(content='Which is my favorite place?'), AIMessage(content='I apologize for any confusion. Based on the information you provided, you mentioned that Switzerland is your favorite place. If you have any other favorite places or would like to share more about your favorite things about Switzerland, I would be happy to hear more!', response_metadata={'token_usage': {'completion_tokens': 52, 'prompt_tokens': 125, 'total_tokens': 177, 'completion_time': 0.081446092, 'prompt_time': 0.0117354, 'queue_time': 0.018991807, 'total_time': 0.093181492}, 'model_name': 'mixtral-8x7b-32768', 'system_fingerprint': 'fp_c5f20b5bb1', 'finish_reason': 'stop', 'logprobs': None}, id='run-a94cca8b-d20c-42b0-a885-9a69b1c11b6e-0', usage_metadata={'input_tokens': 125, 'output_tokens': 52, 'total_tokens': 177}), HumanMessage(content='Which is my favorite Place?'), AIMessage(content='I apologize if I am repeating myself, but based on the information you provided, you mentioned that Switzerland is your favorite place. If you have any other favorite places or would like to share more about your favorite things about Switzerland, I would be happy to hear more! If Switzerland is not your favorite place after all, please let me know and I will do my best to assist you with any questions you may have.', response_metadata={'token_usage': {'completion_tokens': 86, 'prompt_tokens': 190, 'total_tokens': 276, 'completion_time': 0.135784419, 'prompt_time': 0.011472781, 'queue_time': 0.019280119, 'total_time': 0.1472572}, 'model_name': 'mixtral-8x7b-32768', 'system_fingerprint': 'fp_c5f20b5bb1', 'finish_reason': 'stop', 'logprobs': None}, id='run-f1f407b9-0624-4d4f-b9f7-67a9eb9d2dd9-0', usage_metadata={'input_tokens': 190, 'output_tokens': 86, 'total_tokens': 276})]), '002': InMemoryChatMessageHistory(messages=[HumanMessage(content='Which is my favorite place?'), AIMessage(content=\"I don't have personal experiences, emotions, or favorites. However, I can help you find information about your favorite place if you tell me what it is.\", response_metadata={'token_usage': {'completion_tokens': 34, 'prompt_tokens': 14, 'total_tokens': 48, 'completion_time': 0.052731936, 'prompt_time': 0.002063525, 'queue_time': 0.028301995, 'total_time': 0.054795461}, 'model_name': 'mixtral-8x7b-32768', 'system_fingerprint': 'fp_c5f20b5bb1', 'finish_reason': 'stop', 'logprobs': None}, id='run-ccca9166-70f4-4999-888d-7cfd53818114-0', usage_metadata={'input_tokens': 14, 'output_tokens': 34, 'total_tokens': 48}), HumanMessage(content='My name is Amar.'), AIMessage(content=\"Hello Amar! It's nice to meet you. I'm here to help you with any questions or information you might need. If you'd like to know about your favorite place, could you please tell me where that is?\", response_metadata={'token_usage': {'completion_tokens': 50, 'prompt_tokens': 61, 'total_tokens': 111, 'completion_time': 0.078595167, 'prompt_time': 0.005433637, 'queue_time': 0.027634252000000005, 'total_time': 0.084028804}, 'model_name': 'mixtral-8x7b-32768', 'system_fingerprint': 'fp_c5f20b5bb1', 'finish_reason': 'stop', 'logprobs': None}, id='run-9ae72afc-10cf-4d31-b9ae-120408703912-0', usage_metadata={'input_tokens': 61, 'output_tokens': 50, 'total_tokens': 111}), HumanMessage(content='What is my name?'), AIMessage(content='You mentioned earlier that your name is Amar. Is there something else you would like to know or discuss, Amar?', response_metadata={'token_usage': {'completion_tokens': 26, 'prompt_tokens': 123, 'total_tokens': 149, 'completion_time': 0.040476626, 'prompt_time': 0.00774513, 'queue_time': 0.023223335, 'total_time': 0.048221756}, 'model_name': 'mixtral-8x7b-32768', 'system_fingerprint': 'fp_c5f20b5bb1', 'finish_reason': 'stop', 'logprobs': None}, id='run-0c70b97c-6565-496f-a1ee-d8f08c7961e2-0', usage_metadata={'input_tokens': 123, 'output_tokens': 26, 'total_tokens': 149})])}\n"
     ]
    }
   ],
   "source": [
    "print(chatbotMemory)"
   ]
  },
  {
   "cell_type": "code",
   "execution_count": 22,
   "metadata": {},
   "outputs": [],
   "source": [
    "#Now,let's define a function to limit the number of messages stored in memory and add it to our chain with .assign.\n",
    "\n",
    "from langchain_core.prompts import ChatPromptTemplate, MessagesPlaceholder\n",
    "from langchain_core.runnables import RunnablePassthrough\n",
    "\n",
    "\n",
    "def limited_memory_of_messages(messages, number_of_messages_to_keep=2):\n",
    "    return messages[-number_of_messages_to_keep:]\n",
    "\n",
    "prompt = ChatPromptTemplate.from_messages(\n",
    "    [\n",
    "        (\n",
    "            \"system\",\n",
    "            \"You are a helpful assistant. Answer all questions to the best of your ability.\",\n",
    "        ),\n",
    "        MessagesPlaceholder(variable_name=\"messages\"),\n",
    "    ]\n",
    ")\n",
    "\n",
    "limitedMemoryChain = (\n",
    "    RunnablePassthrough.assign(messages=lambda x: limited_memory_of_messages(x[\"messages\"]))\n",
    "    | prompt \n",
    "    | chatbot\n",
    ")"
   ]
  },
  {
   "cell_type": "markdown",
   "metadata": {},
   "source": [
    "* The limited_memory_of_messages function allows you to trim the list of stored messages, keeping only a specified number of the latest ones. For example, if you have a long list of messages and you only want to keep the last two, this function will do that for you.\n",
    "* The lambda function works in conjunction with the `limited_memory_of_messages` function. Here’s a simple breakdown:\n",
    "\n",
    "    1. **Lambda Function**: The `lambda` keyword is used to create a small anonymous function in Python. The `lambda` function defined here takes one argument, `x`.\n",
    "\n",
    "    2. **Function Argument**: The argument `x` is expected to be a dictionary that contains a key named `\"messages\"`. The value associated with this key is a list of messages.\n",
    "\n",
    "    3. **Function Body**: The body of the `lambda` function calls the `limited_memory_of_messages` function. It passes the list of messages found in `x[\"messages\"]` to this function.\n",
    "\n",
    "    4. **Default Behavior of limited_memory_of_messages**: Since the `lambda` function does not specify the `number_of_messages_to_keep` parameter when it calls `limited_memory_of_messages`, the latter will default to keeping the last 2 messages from the list (as defined by the earlier function).\n",
    "\n",
    "In essence, the `lambda` function is a shorthand way to apply the `limited_memory_of_messages` function to the message list contained within a dictionary. It automatically trims the list to the last two messages."
   ]
  },
  {
   "cell_type": "code",
   "execution_count": 23,
   "metadata": {},
   "outputs": [],
   "source": [
    "#Let's now create our new chatbot with limited message history\n",
    "\n",
    "chatbot_with_limited_message_history = RunnableWithMessageHistory(\n",
    "    limitedMemoryChain,\n",
    "    get_session_history,\n",
    "    input_messages_key=\"messages\",\n",
    ")"
   ]
  },
  {
   "cell_type": "code",
   "execution_count": 24,
   "metadata": {},
   "outputs": [
    {
     "data": {
      "text/plain": [
       "'Thank you for letting me know that your favorite car is Audi. Audi is a German luxury car manufacturer known for its high-performance vehicles and advanced technology. Do you have a particular model of Audi that is your favorite, or are you drawn to the brand as a whole? I would be happy to help you with any questions you may have about Audi or cars in general.'"
      ]
     },
     "execution_count": 24,
     "metadata": {},
     "output_type": "execute_result"
    }
   ],
   "source": [
    "#Let's add 2 more messages to the session1 conversation:\n",
    "responseFromChatbot = chatbot_with_message_history.invoke(\n",
    "    [HumanMessage(content=\"My favorite car is Audi.\")],\n",
    "    config=session1,\n",
    ")\n",
    "\n",
    "responseFromChatbot.content"
   ]
  },
  {
   "cell_type": "code",
   "execution_count": 25,
   "metadata": {},
   "outputs": [
    {
     "data": {
      "text/plain": [
       "\"That's great! Cricket is a popular bat-and-ball sport that originated in southeast England and is now played around the world. It is particularly popular in countries such as India, Pakistan, Australia, and England. Do you enjoy playing cricket or watching it as a spectator? If you play, what position do you prefer, and if you watch, do you have a favorite team or player? I would be happy to hear more about your interest in cricket.\""
      ]
     },
     "execution_count": 25,
     "metadata": {},
     "output_type": "execute_result"
    }
   ],
   "source": [
    "responseFromChatbot = chatbot_with_message_history.invoke(\n",
    "    [HumanMessage(content=\"My favorite sports is Cricket.\")],\n",
    "    config=session1,\n",
    ")\n",
    "\n",
    "responseFromChatbot.content"
   ]
  },
  {
   "cell_type": "code",
   "execution_count": 27,
   "metadata": {},
   "outputs": [
    {
     "data": {
      "text/plain": [
       "\"I'm an assistant designed to provide general information and assistance, and I don't have access to personal information about individuals, including their favorite places. If you'd like, I can help you find information about popular vacation spots, local attractions, or other places of interest.\""
      ]
     },
     "execution_count": 27,
     "metadata": {},
     "output_type": "execute_result"
    }
   ],
   "source": [
    "## The chatbot memory has now 4 messages. Let's check the Chatbot with limited memory. \n",
    "# Remember, this chatbot only remembers the last 2 messages, so if we ask her about the first message she should not remember it.\n",
    "\n",
    "responseFromChatbot = chatbot_with_limited_message_history.invoke(\n",
    "    {\n",
    "        \"messages\": [HumanMessage(content=\"what is my favorite place?\")],\n",
    "    },\n",
    "    config=session1,\n",
    ")\n",
    "\n",
    "responseFromChatbot.content"
   ]
  },
  {
   "cell_type": "code",
   "execution_count": 28,
   "metadata": {},
   "outputs": [],
   "source": [
    "#The chatbot with limited memory has behaved as we expected."
   ]
  },
  {
   "cell_type": "code",
   "execution_count": 29,
   "metadata": {},
   "outputs": [
    {
     "data": {
      "text/plain": [
       "\"I apologize for any confusion earlier. As a helpful assistant, I don't have access to personal information about individuals, so I don't know your favorite place. However, I can help you find information about different places if you'd like, or answer questions you have about travel, geography, or other topics.\""
      ]
     },
     "execution_count": 29,
     "metadata": {},
     "output_type": "execute_result"
    }
   ],
   "source": [
    "# Finally, let's compare the previous response with the one provided by the Chatbot with unlimited memory\n",
    "\n",
    "responseFromChatbot = chatbot_with_message_history.invoke(\n",
    "    [HumanMessage(content=\"which is my favorite place?\")],\n",
    "    config=session1,\n",
    ")\n",
    "\n",
    "responseFromChatbot.content"
   ]
  },
  {
   "cell_type": "code",
   "execution_count": null,
   "metadata": {},
   "outputs": [],
   "source": []
  }
 ],
 "metadata": {
  "kernelspec": {
   "display_name": "basic_llm_projects",
   "language": "python",
   "name": "python3"
  },
  "language_info": {
   "codemirror_mode": {
    "name": "ipython",
    "version": 3
   },
   "file_extension": ".py",
   "mimetype": "text/x-python",
   "name": "python",
   "nbconvert_exporter": "python",
   "pygments_lexer": "ipython3",
   "version": "3.11.11"
  }
 },
 "nbformat": 4,
 "nbformat_minor": 2
}
