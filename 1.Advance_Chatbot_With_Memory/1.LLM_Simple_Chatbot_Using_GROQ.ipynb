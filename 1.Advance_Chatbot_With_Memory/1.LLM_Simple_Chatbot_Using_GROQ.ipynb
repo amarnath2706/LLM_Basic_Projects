{
 "cells": [
  {
   "cell_type": "markdown",
   "metadata": {},
   "source": [
    "# How to build a simple Chatbot with stored memory using LangChain\n",
    "* Simple Chatbot LLM App.\n",
    "    * Will be able to have a conversation.\n",
    "    * Will remember previous interactions: will have memory.\n",
    "    * Will be able to store memory in a json file.\n",
    "\n",
    "A chatbot app is a software application designed to simulate conversation with human users. It uses artificial intelligence (AI) to understand what someone is saying and to respond with appropriate answers. These apps can be used for various purposes like customer support, providing information, or entertainment. Essentially, it's like texting with a program that can answer questions and help with tasks.\n",
    "\n",
    "## Concepts included\n",
    "* Chat Model vs. LLM Model:\n",
    "    *  Chat Model is based around messages.\n",
    "    *  LLM Model is based around raw text.\n",
    "* Chat History: allows Chat Model to remember previous interactions.\n",
    "\n"
   ]
  },
  {
   "cell_type": "code",
   "execution_count": 1,
   "metadata": {},
   "outputs": [],
   "source": [
    "#Avoid legacy Langchain depreciation warning\n",
    "import warnings\n",
    "from langchain._api import LangChainDeprecationWarning\n",
    "\n",
    "warnings.simplefilter(\"ignore\", category=LangChainDeprecationWarning)"
   ]
  },
  {
   "cell_type": "code",
   "execution_count": 2,
   "metadata": {},
   "outputs": [],
   "source": [
    "#load my env variable\n",
    "import os\n",
    "from dotenv import load_dotenv, find_dotenv\n",
    "_ = load_dotenv(find_dotenv())\n",
    "groq_api_key = os.environ[\"GROQ_API_KEY\"]"
   ]
  },
  {
   "cell_type": "code",
   "execution_count": 5,
   "metadata": {},
   "outputs": [],
   "source": [
    "#load our chat completion model\n",
    "from langchain_groq import ChatGroq\n",
    "\n",
    "chatbot = ChatGroq(model=\"mixtral-8x7b-32768\")"
   ]
  },
  {
   "cell_type": "code",
   "execution_count": 6,
   "metadata": {},
   "outputs": [],
   "source": [
    "#Let's check with simple prompt - human prompt\n",
    "from langchain_core.messages import HumanMessage\n",
    "\n",
    "messagesToTheChatbot = [\n",
    "    HumanMessage(content=\"My favourite place is Switzerland\"),\n",
    "]"
   ]
  },
  {
   "cell_type": "code",
   "execution_count": 7,
   "metadata": {},
   "outputs": [
    {
     "data": {
      "text/plain": [
       "AIMessage(content=\"Switzerland is a beautiful country located in the heart of Europe, known for its stunning landscapes, charming towns and villages, and rich culture. Here are a few things that make Switzerland a wonderful place to visit:\\n\\n1. Natural Beauty: Switzerland is a country of breathtaking natural beauty, with towering mountains, crystal-clear lakes, and lush green valleys. The Swiss Alps are a popular destination for hiking, skiing, and mountaineering, and offer some of the most stunning views in the world.\\n2. Cultural Diversity: Switzerland is a federal state made up of 26 cantons, each with its own unique culture, language, and traditions. The country has four official languages: German, French, Italian, and Romansh, and visitors can experience a rich tapestry of cultural diversity as they travel from one region to another.\\n3. Delicious Food: Swiss cuisine is renowned for its quality and variety. From hearty dishes like fondue and raclette to delicate pastries and chocolates, there is something for every palate. Switzerland is also home to some of the world's finest cheeses, including Emmental, Appenzeller, and Gruyère.\\n4. Cleanliness and Efficiency: Switzerland is known for its cleanliness and efficiency, and visitors will appreciate the country's well-maintained infrastructure, punctual public transportation, and orderly streets and public spaces.\\n5. Historical Sites: Switzerland is home to a wealth of historical sites, including medieval castles, Roman ruins, and UNESCO World Heritage Sites. Visitors can explore the ancient city of Chur, the picturesque town of Stein am Rhein, or the stunning Abbey of St. Gallen.\\n\\nOverall, Switzerland is a wonderful place to visit, offering a unique blend of natural beauty, cultural diversity, delicious food, and historical significance. Whether you're an outdoor enthusiast, a foodie, or a history buff, you're sure to find something to love in this beautiful country.\", response_metadata={'token_usage': {'completion_tokens': 440, 'prompt_tokens': 13, 'total_tokens': 453, 'completion_time': 0.701092892, 'prompt_time': 0.002160254, 'queue_time': 0.028225993, 'total_time': 0.703253146}, 'model_name': 'mixtral-8x7b-32768', 'system_fingerprint': 'fp_c5f20b5bb1', 'finish_reason': 'stop', 'logprobs': None}, id='run-713fe257-18c9-4e14-a55d-8ae4f98b26ba-0', usage_metadata={'input_tokens': 13, 'output_tokens': 440, 'total_tokens': 453})"
      ]
     },
     "execution_count": 7,
     "metadata": {},
     "output_type": "execute_result"
    }
   ],
   "source": [
    "#Let's pass to the LLM with the help of invoke function\n",
    "#Response in the form of AIMessage\n",
    "chatbot.invoke(messagesToTheChatbot)"
   ]
  },
  {
   "cell_type": "code",
   "execution_count": 8,
   "metadata": {},
   "outputs": [
    {
     "data": {
      "text/plain": [
       "AIMessage(content=\"I'm unable to determine your favorite place as I don't have access to your personal memories, experiences, or preferences. You can tell me about your favorite place if you'd like to share!\", response_metadata={'token_usage': {'completion_tokens': 43, 'prompt_tokens': 15, 'total_tokens': 58, 'completion_time': 0.066939793, 'prompt_time': 0.002255984, 'queue_time': 0.030961621999999998, 'total_time': 0.069195777}, 'model_name': 'mixtral-8x7b-32768', 'system_fingerprint': 'fp_c5f20b5bb1', 'finish_reason': 'stop', 'logprobs': None}, id='run-caff8c54-72c0-49e5-bb16-c7eac4fc6c6d-0', usage_metadata={'input_tokens': 15, 'output_tokens': 43, 'total_tokens': 58})"
      ]
     },
     "execution_count": 8,
     "metadata": {},
     "output_type": "execute_result"
    }
   ],
   "source": [
    "#Let's check our chatbot remembers our favourite place\n",
    "chatbot.invoke([\n",
    "    HumanMessage(content=\"Do you know my favourite place?\")\n",
    "])"
   ]
  },
  {
   "cell_type": "code",
   "execution_count": 9,
   "metadata": {},
   "outputs": [],
   "source": [
    "#Let's add memory to our Chatbot\n",
    "\n",
    "from langchain import LLMChain #legacy langchain\n",
    "from langchain_core.prompts import ChatPromptTemplate\n",
    "from langchain_core.prompts import HumanMessagePromptTemplate\n",
    "from langchain_core.prompts import MessagesPlaceholder\n",
    "from langchain.memory import ConversationBufferMemory #memory\n",
    "from langchain.memory import FileChatMessageHistory"
   ]
  },
  {
   "cell_type": "code",
   "execution_count": 10,
   "metadata": {},
   "outputs": [],
   "source": [
    "#Let's create memory object with the help of conversation buffer memory\n",
    "#save the memory in a file - permanent memory\n",
    "memory = ConversationBufferMemory(\n",
    "    chat_memory=FileChatMessageHistory(\"messages.json\"),\n",
    "    memory_key=\"messages\",\n",
    "    return_messages=True\n",
    ")"
   ]
  },
  {
   "cell_type": "code",
   "execution_count": 11,
   "metadata": {},
   "outputs": [],
   "source": [
    "#prompt template\n",
    "prompt = ChatPromptTemplate(\n",
    "    input_variables=[\"content\", \"messages\"],\n",
    "    messages=[\n",
    "        MessagesPlaceholder(variable_name=\"messages\"),\n",
    "        HumanMessagePromptTemplate.from_template(\"{content}\")\n",
    "    ]\n",
    ")"
   ]
  },
  {
   "cell_type": "code",
   "execution_count": 12,
   "metadata": {},
   "outputs": [],
   "source": [
    "#Create a chain\n",
    "chain = LLMChain(\n",
    "    llm=chatbot,\n",
    "    prompt=prompt,\n",
    "    memory=memory\n",
    ")\n"
   ]
  },
  {
   "cell_type": "code",
   "execution_count": 13,
   "metadata": {},
   "outputs": [
    {
     "data": {
      "text/plain": [
       "{'content': 'hello',\n",
       " 'messages': [],\n",
       " 'text': \"Hello! It's nice to meet you. Is there something you would like to talk about or ask me? I'm here to help with any questions you might have about writing, grammar, or language in general. Just let me know how I can assist you.\"}"
      ]
     },
     "execution_count": 13,
     "metadata": {},
     "output_type": "execute_result"
    }
   ],
   "source": [
    "#invoke\n",
    "chain.invoke(\"hello\")"
   ]
  },
  {
   "cell_type": "code",
   "execution_count": 14,
   "metadata": {},
   "outputs": [
    {
     "data": {
      "text/plain": [
       "{'content': 'My name is Amar',\n",
       " 'messages': [HumanMessage(content='hello'),\n",
       "  AIMessage(content=\"Hello! It's nice to meet you. Is there something you would like to talk about or ask me? I'm here to help with any questions you might have about writing, grammar, or language in general. Just let me know how I can assist you.\")],\n",
       " 'text': \"Hi Amar, it's nice to meet you! How can I help you today? Is there something you would like to ask or talk about related to writing, grammar, or language? I'm here to assist you in any way I can. Just let me know what's on your mind.\"}"
      ]
     },
     "execution_count": 14,
     "metadata": {},
     "output_type": "execute_result"
    }
   ],
   "source": [
    "chain.invoke(\"My name is Amar\")"
   ]
  },
  {
   "cell_type": "code",
   "execution_count": 15,
   "metadata": {},
   "outputs": [
    {
     "data": {
      "text/plain": [
       "{'content': 'Do you know my name?',\n",
       " 'messages': [HumanMessage(content='hello'),\n",
       "  AIMessage(content=\"Hello! It's nice to meet you. Is there something you would like to talk about or ask me? I'm here to help with any questions you might have about writing, grammar, or language in general. Just let me know how I can assist you.\"),\n",
       "  HumanMessage(content='My name is Amar'),\n",
       "  AIMessage(content=\"Hi Amar, it's nice to meet you! How can I help you today? Is there something you would like to ask or talk about related to writing, grammar, or language? I'm here to assist you in any way I can. Just let me know what's on your mind.\")],\n",
       " 'text': \"Yes, you mentioned that your name is Amar earlier in our conversation. I'm here to assist you with any questions you might have about writing, grammar, or language. Is there something specific you would like to ask or discuss? I'm here to help.\"}"
      ]
     },
     "execution_count": 15,
     "metadata": {},
     "output_type": "execute_result"
    }
   ],
   "source": [
    "chain.invoke('Do you know my name?')"
   ]
  },
  {
   "cell_type": "code",
   "execution_count": null,
   "metadata": {},
   "outputs": [],
   "source": []
  }
 ],
 "metadata": {
  "kernelspec": {
   "display_name": "basic_llm_projects",
   "language": "python",
   "name": "python3"
  },
  "language_info": {
   "codemirror_mode": {
    "name": "ipython",
    "version": 3
   },
   "file_extension": ".py",
   "mimetype": "text/x-python",
   "name": "python",
   "nbconvert_exporter": "python",
   "pygments_lexer": "ipython3",
   "version": "3.11.11"
  }
 },
 "nbformat": 4,
 "nbformat_minor": 2
}
